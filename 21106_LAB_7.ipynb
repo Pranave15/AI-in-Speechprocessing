{
 "cells": [
  {
   "cell_type": "code",
   "execution_count": 4,
   "metadata": {},
   "outputs": [
    {
     "name": "stdout",
     "output_type": "stream",
     "text": [
      "[0 0 0 ... 0 0 0]\n"
     ]
    }
   ],
   "source": [
    "import numpy as np\n",
    "import librosa\n",
    "from hmmlearn import hmm\n",
    "from sklearn.preprocessing import StandardScaler\n",
    "\n",
    "# Load the audio file\n",
    "signal, sr = librosa.load(r\"C:\\Users\\karth\\Downloads\\Lab\\Lab 7\\test.mp3\")\n",
    "\n",
    "# Compute STFT features\n",
    "stft_features = np.abs(librosa.stft(signal))\n",
    "\n",
    "# Flatten the features and standardize them\n",
    "stft_features_flattened = stft_features.flatten()[:, np.newaxis]\n",
    "scaler = StandardScaler()\n",
    "stft_features_scaled = scaler.fit_transform(stft_features_flattened)\n",
    "\n",
    "# Train an HMM\n",
    "model = hmm.GaussianHMM(n_components=3, covariance_type=\"full\", n_iter=100)\n",
    "model.fit(stft_features_scaled)\n",
    "\n",
    "# Use the trained HMM for classification\n",
    "labels = model.predict(stft_features_scaled)\n",
    "\n",
    "print(labels)"
   ]
  }
 ],
 "metadata": {
  "kernelspec": {
   "display_name": "Python 3 (ipykernel)",
   "language": "python",
   "name": "python3"
  },
  "language_info": {
   "codemirror_mode": {
    "name": "ipython",
    "version": 3
   },
   "file_extension": ".py",
   "mimetype": "text/x-python",
   "name": "python",
   "nbconvert_exporter": "python",
   "pygments_lexer": "ipython3",
   "version": "3.11.5"
  }
 },
 "nbformat": 4,
 "nbformat_minor": 2
}
